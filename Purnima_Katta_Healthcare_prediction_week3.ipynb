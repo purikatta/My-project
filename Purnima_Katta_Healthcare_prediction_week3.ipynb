{
 "cells": [
  {
   "cell_type": "code",
   "execution_count": 2,
   "id": "8eb0e1bd-68a3-4f36-bec8-47a3520fd35a",
   "metadata": {},
   "outputs": [],
   "source": [
    "import numpy as np\n",
    "import pandas as pd\n",
    "import matplotlib.pyplot as plt\n",
    "from sklearn.linear_model import LogisticRegression\n",
    "from sklearn.model_selection import train_test_split,GridSearchCV,cross_val_score\n",
    "import seaborn as sns\n",
    "from sklearn.metrics import accuracy_score,mean_squared_error,classification_report,confusion_matrix,precision_score,recall_score,roc_curve,auc\n",
    "from sklearn.feature_selection import SelectKBest\n",
    "from sklearn.feature_selection import chi2\n",
    "from sklearn.ensemble import ExtraTreesClassifier,RandomForestClassifier\n",
    "from sklearn.tree import DecisionTreeClassifier\n",
    "from sklearn.preprocessing import StandardScaler,MinMaxScaler\n",
    "from sklearn.neighbors import KNeighborsClassifier"
   ]
  },
  {
   "cell_type": "code",
   "execution_count": null,
   "id": "b2bea12b-87a1-4022-acae-1ecaf7fa7020",
   "metadata": {},
   "outputs": [],
   "source": [
    "data=pd.read_csv('health care diabetes.csv')\n",
    "data.head()"
   ]
  },
  {
   "cell_type": "code",
   "execution_count": null,
   "id": "9dc9dbcd-4d68-4d6f-b0a1-8a2527b517cb",
   "metadata": {},
   "outputs": [],
   "source": [
    "# Checking the number of rows and columns of the dataset\n",
    "data.shape"
   ]
  },
  {
   "cell_type": "code",
   "execution_count": null,
   "id": "8e4fbcf8-5172-4e3c-a1f6-dcf403e93394",
   "metadata": {},
   "outputs": [],
   "source": [
    "# Dataset Information Overview\n",
    "data.info()"
   ]
  },
  {
   "cell_type": "code",
   "execution_count": null,
   "id": "9fdc4180-389b-4a54-8900-684e724daa01",
   "metadata": {},
   "outputs": [],
   "source": [
    "# Summary Statistics for the Diabetes Dataset\n",
    "data.describe()"
   ]
  },
  {
   "cell_type": "code",
   "execution_count": null,
   "id": "44219d23-23dd-4247-aac9-f3a101ea4222",
   "metadata": {},
   "outputs": [],
   "source": [
    "#Identifying the mean of the features\n",
    "print(data['Glucose'].mean())\n",
    "print(data['BloodPressure'].mean())\n",
    "print(data['SkinThickness'].mean())\n",
    "print(data['Insulin'].mean())"
   ]
  },
  {
   "cell_type": "code",
   "execution_count": null,
   "id": "e17f50db-7947-4f22-96de-c360e2e3008a",
   "metadata": {},
   "outputs": [],
   "source": [
    "# Finding the number of rows which has the null values\n",
    "print('Glucose-',len(data['Glucose'][data['Glucose']==0]))\n",
    "print('BloodPressure-',len(data['BloodPressure'][data['BloodPressure']==0]))\n",
    "print('SkinThickness-',len(data['SkinThickness'][data['SkinThickness']==0]))\n",
    "print('Insulin-',len(data['Insulin'][data['Insulin']==0]))\n",
    "print('BMI-',len(data['BMI'][data['BMI']==0]))"
   ]
  },
  {
   "cell_type": "code",
   "execution_count": null,
   "id": "42be9804-dedc-4a8d-83b6-85935774ec9a",
   "metadata": {},
   "outputs": [],
   "source": [
    "# Finding the null value percentage\n",
    "selected_columns = ['Glucose', 'BloodPressure', 'SkinThickness','Insulin','BMI']\n",
    "null_percentage = (data[selected_columns] == 0).mean() * 100\n",
    "\n",
    "# Displaying the null value percentage for each selected column\n",
    "print(\"Percentage of Null Values for Each Column:\")\n",
    "print(null_percentage)"
   ]
  },
  {
   "cell_type": "code",
   "execution_count": 9,
   "id": "b3bf6f4b-354f-4d62-9d6c-186294b8396e",
   "metadata": {},
   "outputs": [],
   "source": [
    "# Replacing the null values with the mean\n",
    "data['Glucose']=data['Glucose'].replace([0],[data['Glucose'].mean()])\n",
    "data['BloodPressure']=data['BloodPressure'].replace([0],[data['BloodPressure'].mean()])\n",
    "data['SkinThickness']=data['SkinThickness'].replace([0],[data['SkinThickness'].mean()])\n",
    "data['Insulin']=data['Insulin'].replace([0],[data['Insulin'].mean()])\n",
    "data['BMI']=data['BMI'].replace([0],[data['BMI'].mean()])"
   ]
  },
  {
   "cell_type": "code",
   "execution_count": null,
   "id": "90f63b47-6cbf-4432-bc4c-a3a9ba1fd527",
   "metadata": {},
   "outputs": [],
   "source": [
    "#Checking the null value percentage of the treated columns\n",
    "null_percentage_treated = (data[selected_columns] == 0).mean() * 100\n",
    "\n",
    "# Displaying the null value percentage for each selected column\n",
    "print(\"Percentage of Null Values for Each Column after the null value treatment:\")\n",
    "print(null_percentage_treated)"
   ]
  },
  {
   "cell_type": "code",
   "execution_count": 11,
   "id": "d2302c50-6629-46f4-adac-4849e25bdffc",
   "metadata": {},
   "outputs": [],
   "source": [
    "columns=data[selected_columns]"
   ]
  },
  {
   "cell_type": "code",
   "execution_count": null,
   "id": "4b4b6e2b-c79f-4afb-a57c-ee995b4668ab",
   "metadata": {},
   "outputs": [],
   "source": [
    "# Display boxplots for numeric columns to visualize outliers\n",
    "plt.figure(figsize=(12, 8))\n",
    "sns.boxplot(data=columns)\n",
    "plt.title(\"Boxplots for Numeric Columns\")\n",
    "plt.show()"
   ]
  },
  {
   "cell_type": "code",
   "execution_count": null,
   "id": "17f3130d-83d3-42ca-b0d8-66d6bac9ca1f",
   "metadata": {},
   "outputs": [],
   "source": [
    "data.describe()"
   ]
  },
  {
   "cell_type": "code",
   "execution_count": null,
   "id": "7656ff0e-2c08-49cc-b0f6-8b9c3226166b",
   "metadata": {},
   "outputs": [],
   "source": [
    "# Finding the Outlier Count in the selected Columns:\n",
    "def find_outliers_iqr(data, column_name):\n",
    "    # Calculate the first quartile (Q1) and third quartile (Q3)\n",
    "    Q1 = data[column_name].quantile(0.25)\n",
    "    Q3 = data[column_name].quantile(0.75)\n",
    "\n",
    "    # Calculate the interquartile range (IQR)\n",
    "    IQR = Q3 - Q1\n",
    "\n",
    "    # Define the lower and upper bounds for outliers\n",
    "    lower_bound = Q1 - 1.5 * IQR\n",
    "    upper_bound = Q3 + 1.5 * IQR\n",
    "\n",
    "    # Find outliers\n",
    "    outliers = data[(data[column_name] < lower_bound) | (data[column_name] > upper_bound)]\n",
    "\n",
    "    # Count the number of outliers\n",
    "    count_outliers = len(outliers)\n",
    "\n",
    "    return count_outliers\n",
    "\n",
    "# Calculate and print the number of outliers for each column of interest\n",
    "for column_name in selected_columns:\n",
    "    outlier_count = find_outliers_iqr(data, column_name)\n",
    "    print(f\"Number of outliers in the '{column_name}' column: {outlier_count}\")"
   ]
  },
  {
   "cell_type": "code",
   "execution_count": null,
   "id": "6feeca2e-1452-4e29-aac4-a49c707f9a1b",
   "metadata": {},
   "outputs": [],
   "source": [
    "sorted(data)\n",
    "Q1=data.quantile(0.20)\n",
    "Q3=data.quantile(0.80)\n",
    "IQR=Q3-Q1\n",
    "print(IQR)"
   ]
  },
  {
   "cell_type": "code",
   "execution_count": null,
   "id": "b1aec00f-b080-4a48-9e24-38c79125a166",
   "metadata": {},
   "outputs": [],
   "source": [
    "data_cleared_iqr = data[~((data < (Q1 - 1.5 * IQR)) |(data > (Q3 + 1.5 * IQR))).any(axis=1)]\n",
    "data_cleared_iqr\n",
    "print(data_cleared_iqr.shape)\n",
    "print(data.shape)"
   ]
  },
  {
   "cell_type": "code",
   "execution_count": null,
   "id": "b4a7bd0d-7df5-4b98-a76c-75128108b4a7",
   "metadata": {},
   "outputs": [],
   "source": [
    "data_cleared_iqr"
   ]
  },
  {
   "cell_type": "code",
   "execution_count": 18,
   "id": "3d201f27-09fb-4b6f-97d5-b71e4179edc8",
   "metadata": {},
   "outputs": [],
   "source": [
    "col=data_cleared_iqr[['Glucose','BloodPressure','SkinThickness','Insulin']]"
   ]
  },
  {
   "cell_type": "code",
   "execution_count": null,
   "id": "93c46090-582e-4345-b040-9a7c10e09239",
   "metadata": {},
   "outputs": [],
   "source": [
    "# Checking the outliers after treatment using box plot\n",
    "plt.figure(figsize=(12, 8))\n",
    "sns.boxplot(data=col)\n",
    "plt.show()"
   ]
  },
  {
   "cell_type": "code",
   "execution_count": null,
   "id": "538457ab-5464-44c5-af57-2c74f931ab0a",
   "metadata": {},
   "outputs": [],
   "source": [
    "data['Glucose'].plot(kind='hist',figsize=(10,5))\n",
    "plt.legend()\n",
    "plt.show()"
   ]
  },
  {
   "cell_type": "code",
   "execution_count": null,
   "id": "3bc870ce-7c4f-43c9-aff2-53b726a15101",
   "metadata": {},
   "outputs": [],
   "source": [
    "data['BloodPressure'].plot(kind='hist',figsize=(10,5))\n",
    "plt.legend()\n",
    "plt.show()"
   ]
  },
  {
   "cell_type": "code",
   "execution_count": null,
   "id": "925a4091-8841-4136-a28d-aab416c7a4c5",
   "metadata": {},
   "outputs": [],
   "source": [
    "data['SkinThickness'].plot(kind='hist',figsize=(10,5),)\n",
    "plt.legend()\n",
    "plt.show()"
   ]
  },
  {
   "cell_type": "code",
   "execution_count": null,
   "id": "afee7963-0c60-4fcb-b7b6-15ba0db79303",
   "metadata": {},
   "outputs": [],
   "source": [
    "data['Insulin'].plot(kind='hist',figsize=(10,5))\n",
    "plt.legend()\n",
    "plt.show()"
   ]
  },
  {
   "cell_type": "code",
   "execution_count": null,
   "id": "3c0bb0ab-b403-4d08-8e5b-0234b69789d0",
   "metadata": {},
   "outputs": [],
   "source": [
    "plt.figure(figsize=(15, 10))\n",
    "sns.violinplot(data=data[selected_columns])\n",
    "plt.title(\"Violin Plot of Selected Features\")\n",
    "plt.show()"
   ]
  },
  {
   "cell_type": "code",
   "execution_count": null,
   "id": "52902346-5080-49fb-82c5-326da672b822",
   "metadata": {},
   "outputs": [],
   "source": [
    "plt.figure(figsize=(15, 10))\n",
    "for column in selected_columns:\n",
    "    sns.kdeplot(data[column], label=column)\n",
    "plt.title(\"Kernel Density Estimation (KDE) Plot of Numeric Features\")\n",
    "plt.legend()\n",
    "plt.show()"
   ]
  },
  {
   "cell_type": "code",
   "execution_count": null,
   "id": "fa94dc37-549a-4c62-9cf5-51009638d488",
   "metadata": {},
   "outputs": [],
   "source": [
    "data.dtypes"
   ]
  },
  {
   "cell_type": "code",
   "execution_count": null,
   "id": "e2e627d1-ce3c-47f5-8593-07fdcbc917dc",
   "metadata": {},
   "outputs": [],
   "source": [
    "data.dtypes.value_counts()"
   ]
  },
  {
   "cell_type": "code",
   "execution_count": null,
   "id": "1e3a90e1-ab9a-49f8-ab49-571deefa9176",
   "metadata": {},
   "outputs": [],
   "source": [
    "figsize=(16,2)\n",
    "data.dtypes.value_counts().plot(kind='barh')\n",
    "plt.legend()\n",
    "plt.show()"
   ]
  },
  {
   "cell_type": "code",
   "execution_count": null,
   "id": "dd9dca4b-acd5-4c90-b69b-9a1836961c12",
   "metadata": {},
   "outputs": [],
   "source": [
    "data['Outcome'].value_counts()"
   ]
  },
  {
   "cell_type": "code",
   "execution_count": null,
   "id": "71c7c6a0-58f3-4ca9-9596-360a65836e49",
   "metadata": {},
   "outputs": [],
   "source": [
    "data['Outcome'].value_counts().plot(kind='bar')\n",
    "plt.legend()\n",
    "plt.title('Outcome')\n",
    "plt.show()"
   ]
  },
  {
   "cell_type": "code",
   "execution_count": null,
   "id": "d0c36c5c-4e92-4fd2-9ab0-ddce0e69f167",
   "metadata": {},
   "outputs": [],
   "source": [
    "outcome=(data['Outcome'].value_counts()/data['Outcome'].shape)*100\n",
    "outcome"
   ]
  },
  {
   "cell_type": "code",
   "execution_count": null,
   "id": "895c5141-6b00-4906-8afd-ff0db371ec0d",
   "metadata": {},
   "outputs": [],
   "source": [
    "balanced_data=100-outcome\n",
    "balanced_data"
   ]
  },
  {
   "cell_type": "code",
   "execution_count": null,
   "id": "0c3fa508-7026-463a-a812-f88bef353b8f",
   "metadata": {},
   "outputs": [],
   "source": [
    "balanced_data.plot(kind='bar')\n",
    "plt.legend()\n",
    "plt.title('Balanced_data')\n",
    "plt.show()"
   ]
  },
  {
   "cell_type": "code",
   "execution_count": null,
   "id": "bdc816a6-a74c-4d34-832b-098ea1f3b428",
   "metadata": {},
   "outputs": [],
   "source": [
    "plt.figure(figsize=(12,5))\n",
    "sns.scatterplot(x='Glucose',y='BloodPressure',hue='Outcome',data=data)\n",
    "plt.show()"
   ]
  },
  {
   "cell_type": "code",
   "execution_count": null,
   "id": "ee42c549-529e-4ecd-aed4-a33941eff8a7",
   "metadata": {},
   "outputs": [],
   "source": [
    "plt.figure(figsize=(12,5))\n",
    "sns.scatterplot(x='BMI',y='Insulin',hue='Outcome',data=data)\n",
    "plt.show()"
   ]
  },
  {
   "cell_type": "code",
   "execution_count": null,
   "id": "516cff57-8dff-45ab-bb11-c9d8aab1ed98",
   "metadata": {},
   "outputs": [],
   "source": [
    "plt.figure(figsize=(8,5))\n",
    "sns.scatterplot(x='SkinThickness',y='Insulin',hue='Outcome',data=data)\n",
    "plt.show()"
   ]
  },
  {
   "cell_type": "code",
   "execution_count": null,
   "id": "fe324554-a9c0-4980-ba9e-d3b6f82d7f19",
   "metadata": {},
   "outputs": [],
   "source": [
    "plt.figure(figsize=(8,5))\n",
    "sns.scatterplot(x='Age',y='Glucose',hue='Outcome',data=data)\n",
    "plt.show()"
   ]
  },
  {
   "cell_type": "code",
   "execution_count": null,
   "id": "7de0adfc-241c-4fa7-9332-21ee3d2181a8",
   "metadata": {},
   "outputs": [],
   "source": [
    "plt.figure(figsize=(8,5))\n",
    "sns.scatterplot(x='Age',y='Pregnancies',hue='Outcome',data=data)\n",
    "plt.show()"
   ]
  },
  {
   "cell_type": "code",
   "execution_count": null,
   "id": "77a9e248-fa95-4e8e-9024-18f45fa8f1eb",
   "metadata": {},
   "outputs": [],
   "source": [
    "sns.pairplot(data)\n",
    "plt.suptitle(\"Pairplot of Numeric Features\", y=1.02)\n",
    "plt.show()"
   ]
  },
  {
   "cell_type": "code",
   "execution_count": null,
   "id": "c18a2cbc-82e7-4634-8ea6-8fd5eb8849e5",
   "metadata": {},
   "outputs": [],
   "source": [
    "plt.figure(figsize=(10,7))\n",
    "sns.heatmap(data.corr(),annot=True)\n",
    "plt.show()"
   ]
  },
  {
   "cell_type": "code",
   "execution_count": 41,
   "id": "838ecd82-90fb-49f4-97d3-f95926b8c9d6",
   "metadata": {},
   "outputs": [],
   "source": [
    "# Data Preparation for Modeling\n",
    "x=data.drop(['Outcome'],axis=1)\n",
    "y=data.Outcome"
   ]
  },
  {
   "cell_type": "code",
   "execution_count": null,
   "id": "c3ffef4f-310e-41a2-b047-e7ef18823eb7",
   "metadata": {},
   "outputs": [],
   "source": [
    "# Finding the Correlation of every feature with the Outcome (Target Variable)\n",
    "data.corrwith(data['Outcome'])"
   ]
  },
  {
   "cell_type": "code",
   "execution_count": null,
   "id": "bcb6e17c-85d4-420c-b703-c7a905799fb1",
   "metadata": {},
   "outputs": [],
   "source": [
    "bestfeatures = SelectKBest(score_func=chi2, k='all')\n",
    "fit = bestfeatures.fit(x,y)\n",
    "dfscores = pd.DataFrame(fit.scores_)\n",
    "dfcolumns = pd.DataFrame(x.columns)\n",
    "#concat two dataframes for better visualization \n",
    "featureScores = pd.concat([dfcolumns,dfscores],axis=1)\n",
    "featureScores.columns = ['Specs','Score']  #naming the dataframe columns\n",
    "print(featureScores.nlargest(8,'Score'))  #print 10 best features"
   ]
  },
  {
   "cell_type": "code",
   "execution_count": null,
   "id": "f62081ac-0ee1-496b-b8db-8128790622e1",
   "metadata": {},
   "outputs": [],
   "source": [
    "plt.figure(figsize=(10,7))\n",
    "sns.heatmap(data.corr(),annot=True)\n",
    "plt.show()"
   ]
  },
  {
   "cell_type": "code",
   "execution_count": null,
   "id": "36647697-ce01-4810-8403-648a589ca2f4",
   "metadata": {},
   "outputs": [],
   "source": [
    "model = ExtraTreesClassifier()\n",
    "model.fit(x,y)\n",
    "print(model.feature_importances_) #use inbuilt class feature_importances of tree based classifiers\n",
    "#plot graph of feature importances for better visualization\n",
    "feat_importances = pd.Series(model.feature_importances_, index=x.columns)\n",
    "feat_importances.nlargest(8).plot(kind='barh')\n",
    "plt.show()"
   ]
  },
  {
   "cell_type": "code",
   "execution_count": 46,
   "id": "d575809e-1e53-4034-bab0-ce8754e136a5",
   "metadata": {},
   "outputs": [],
   "source": [
    "new_x=data.drop(['Outcome','BloodPressure'],axis=1).values\n",
    "new_y=data.Outcome.values"
   ]
  },
  {
   "cell_type": "code",
   "execution_count": 47,
   "id": "4759fd1b-1222-459b-87b6-56ca37e7782e",
   "metadata": {},
   "outputs": [],
   "source": [
    "# Train-Test Split for Data Modeling\n",
    "trainx,testx,trainy,testy=train_test_split(new_x,new_y,test_size=0.20,random_state=10)"
   ]
  },
  {
   "cell_type": "code",
   "execution_count": null,
   "id": "db93b437-3d21-4b89-9231-876a4088ee47",
   "metadata": {},
   "outputs": [],
   "source": [
    " pip install -U imbalanced-learn"
   ]
  },
  {
   "cell_type": "code",
   "execution_count": null,
   "id": "75373ace-dc5b-4e6b-bdc9-9218c5205d0a",
   "metadata": {},
   "outputs": [],
   "source": [
    "print(\"Before OverSampling, counts of label '1': {}\".format(sum(trainy == 1)))\n",
    "print(\"Before OverSampling, counts of label '0': {} \\n\".format(sum(trainy == 0)))\n",
    "  \n",
    "from imblearn.over_sampling import SMOTE\n",
    "sm = SMOTE(random_state =63)\n",
    "trainx_res,trainy_res = sm.fit_resample(trainx,trainy.ravel())  \n",
    "print('After OverSampling, the shape of train_X: {}'.format(trainx_res.shape))\n",
    "print('After OverSampling, the shape of train_y: {} \\n'.format(trainy_res.shape))\n",
    "  \n",
    "\n",
    "print(\"After OverSampling, counts of label '1': {}\".format(sum(trainy_res == 1)))\n",
    "print(\"After OverSampling, counts of label '0': {}\".format(sum(trainy_res == 0)))"
   ]
  },
  {
   "cell_type": "code",
   "execution_count": 50,
   "id": "d9ab28ec-c866-4875-9134-e30372eba7b6",
   "metadata": {},
   "outputs": [],
   "source": [
    "#sc=StandardScaler()"
   ]
  },
  {
   "cell_type": "code",
   "execution_count": 51,
   "id": "90333f4f-2cff-4420-aa4d-b5c26f2424c4",
   "metadata": {},
   "outputs": [],
   "source": [
    "#trainx=sc.fit_transform(trainx)\n",
    "#testx=sc.fit_transform(testx)"
   ]
  },
  {
   "cell_type": "code",
   "execution_count": 52,
   "id": "c2a65114-1ef8-448e-9a18-5eb14cf6d7c9",
   "metadata": {},
   "outputs": [],
   "source": [
    "logreg=LogisticRegression(solver='liblinear',random_state=123)"
   ]
  },
  {
   "cell_type": "code",
   "execution_count": null,
   "id": "2e968a9a-7a18-47f5-9ce5-5fb4c5a6fb4e",
   "metadata": {},
   "outputs": [],
   "source": [
    "logreg.fit(trainx_res,trainy_res)"
   ]
  },
  {
   "cell_type": "code",
   "execution_count": 54,
   "id": "e54a74ee-a543-4ff7-b97f-49e0bb4bfccd",
   "metadata": {},
   "outputs": [],
   "source": [
    "prediction=logreg.predict(testx)"
   ]
  },
  {
   "cell_type": "code",
   "execution_count": null,
   "id": "23eb1bd6-770c-4474-a297-5191631cb432",
   "metadata": {},
   "outputs": [],
   "source": [
    "print('Accuracy_score -',accuracy_score(testy,prediction))\n",
    "print('Mean_squared_error -',mean_squared_error(testy,prediction))"
   ]
  },
  {
   "cell_type": "code",
   "execution_count": null,
   "id": "c0316268-25ae-4c26-997d-6b8bef9b8ccb",
   "metadata": {},
   "outputs": [],
   "source": [
    "print((confusion_matrix(testy,prediction)))"
   ]
  },
  {
   "cell_type": "code",
   "execution_count": null,
   "id": "77bdcc48-87bf-400d-a737-68aa939f9a44",
   "metadata": {},
   "outputs": [],
   "source": [
    "print(classification_report(testy,prediction))"
   ]
  },
  {
   "cell_type": "code",
   "execution_count": null,
   "id": "d71c7e06-553e-4f5b-85b3-993b89d17530",
   "metadata": {},
   "outputs": [],
   "source": [
    "#Preparing ROC Curve (Receiver Operating Characteristics Curve)\n",
    "from sklearn.metrics import roc_curve\n",
    "from sklearn.metrics import roc_auc_score\n",
    "\n",
    "# predict probabilities\n",
    "probs = logreg.predict_proba(trainx_res)\n",
    "# keep probabilities for the positive outcome only\n",
    "probs = probs[:, 1]\n",
    "# calculate AUC\n",
    "auc = roc_auc_score(trainy_res, probs)\n",
    "print('AUC: %.3f' % auc)\n",
    "# calculate roc curve\n",
    "fpr, tpr, thresholds = roc_curve(trainy_res, probs)\n",
    "# plot no skill\n",
    "plt.plot([0, 1], [0, 1], linestyle='--')\n",
    "# plot the roc curve for the model\n",
    "plt.plot(fpr, tpr, marker='.')\n",
    "plt.show()"
   ]
  },
  {
   "cell_type": "code",
   "execution_count": 59,
   "id": "d0d50c4b-3e91-4666-acfd-ff7edcb0d493",
   "metadata": {},
   "outputs": [],
   "source": [
    "rf=RandomForestClassifier(random_state=42,max_depth=5)"
   ]
  },
  {
   "cell_type": "code",
   "execution_count": null,
   "id": "908e321c-75a3-4878-81da-3979ac6475d8",
   "metadata": {},
   "outputs": [],
   "source": [
    "rf.fit(trainx_res,trainy_res)"
   ]
  },
  {
   "cell_type": "code",
   "execution_count": 61,
   "id": "e2aac841-7417-4ed1-a662-096721752ac3",
   "metadata": {},
   "outputs": [],
   "source": [
    "rf_predict=rf.predict(testx)"
   ]
  },
  {
   "cell_type": "code",
   "execution_count": null,
   "id": "101bcbdf-742d-4f2c-8130-774da203de86",
   "metadata": {},
   "outputs": [],
   "source": [
    "print('Accuracy_score -',accuracy_score(testy,rf_predict))\n",
    "print('Mean_squared_error -',mean_squared_error(testy,rf_predict))"
   ]
  },
  {
   "cell_type": "code",
   "execution_count": 63,
   "id": "69180863-c046-4bc8-a6b5-d26fbe4de0ad",
   "metadata": {},
   "outputs": [],
   "source": [
    "param_grid={'n_estimators':[100,400,200,300],'criterion':['gini','entropy'],'max_depth':[1,2,3],'min_samples_split':[2,4,3],'min_samples_leaf':[1,2,3],\n",
    "'max_leaf_nodes':[1,2,3],'max_samples':[2,4,3]}"
   ]
  },
  {
   "cell_type": "code",
   "execution_count": 64,
   "id": "9251ad1b-80f7-426a-8f02-758d8d2bcf5f",
   "metadata": {},
   "outputs": [],
   "source": [
    "grid=GridSearchCV( estimator=rf,param_grid=param_grid,n_jobs=-1,cv=5,verbose=2)"
   ]
  },
  {
   "cell_type": "code",
   "execution_count": 65,
   "id": "316277ed-9f90-4160-84dc-a8da5e770882",
   "metadata": {},
   "outputs": [],
   "source": [
    "rf_grid=RandomForestClassifier(criterion= 'gini',max_depth= 2,max_leaf_nodes=3,max_samples=4,min_samples_leaf= 1,min_samples_split=3,\n",
    " n_estimators= 400,random_state=42)"
   ]
  },
  {
   "cell_type": "code",
   "execution_count": null,
   "id": "e8e54ae9-70ec-4c21-b5ce-f128cdf4adad",
   "metadata": {},
   "outputs": [],
   "source": [
    "rf_grid.fit(trainx_res,trainy_res)"
   ]
  },
  {
   "cell_type": "code",
   "execution_count": 67,
   "id": "094de85c-c82e-4cd3-97e8-87b71e3eb21c",
   "metadata": {},
   "outputs": [],
   "source": [
    "rf_grid_predict=rf_grid.predict(testx)"
   ]
  },
  {
   "cell_type": "code",
   "execution_count": null,
   "id": "a6fe6de7-5550-4ee4-9a9d-2c399191d3f8",
   "metadata": {},
   "outputs": [],
   "source": [
    "print('Accuracy_score -',accuracy_score(testy,rf_grid_predict))\n",
    "print('Mean_squared_error -',mean_squared_error(testy,rf_grid_predict))"
   ]
  },
  {
   "cell_type": "code",
   "execution_count": null,
   "id": "ba0d7afe-f4d8-4a16-bc34-5efc666d0d6f",
   "metadata": {},
   "outputs": [],
   "source": [
    "print((confusion_matrix(testy,prediction)))"
   ]
  },
  {
   "cell_type": "code",
   "execution_count": null,
   "id": "426da008-ccf9-4e42-b14b-cbedddd97a00",
   "metadata": {},
   "outputs": [],
   "source": [
    "print(classification_report(testy,prediction))"
   ]
  },
  {
   "cell_type": "code",
   "execution_count": null,
   "id": "013c5ae3-7c7e-4a37-b1c2-f911eac3aac8",
   "metadata": {},
   "outputs": [],
   "source": [
    "#Preparing ROC Curve (Receiver Operating Characteristics Curve)\n",
    "from sklearn.metrics import roc_curve\n",
    "from sklearn.metrics import roc_auc_score\n",
    "\n",
    "# predict probabilities\n",
    "probs = rf.predict_proba(trainx_res)\n",
    "# keep probabilities for the positive outcome only\n",
    "probs = probs[:, 1]\n",
    "# calculate AUC\n",
    "auc = roc_auc_score(trainy_res, probs)\n",
    "print('AUC: %.3f' % auc)\n",
    "# calculate roc curve\n",
    "fpr, tpr, thresholds = roc_curve(trainy_res, probs)\n",
    "# plot no skill\n",
    "plt.plot([0, 1], [0, 1], linestyle='--')\n",
    "# plot the roc curve for the model\n",
    "plt.plot(fpr, tpr, marker='.')\n",
    "plt.show()"
   ]
  },
  {
   "cell_type": "code",
   "execution_count": 72,
   "id": "f5044873-4827-4fb6-a9a9-00748c8e985e",
   "metadata": {},
   "outputs": [],
   "source": [
    "dc=DecisionTreeClassifier(random_state=42)"
   ]
  },
  {
   "cell_type": "code",
   "execution_count": null,
   "id": "13822c6f-4c02-4480-9b9c-6cbfae474cfc",
   "metadata": {},
   "outputs": [],
   "source": [
    "dc.fit(trainx_res,trainy_res)"
   ]
  },
  {
   "cell_type": "code",
   "execution_count": 74,
   "id": "25fba303-8938-46a3-aadb-6b29e2e6b47f",
   "metadata": {},
   "outputs": [],
   "source": [
    "dc_pred=dc.predict(testx)"
   ]
  },
  {
   "cell_type": "code",
   "execution_count": null,
   "id": "4a539cba-cf3c-48ac-b3df-d4c7e3708933",
   "metadata": {},
   "outputs": [],
   "source": [
    "print('Accuracy_score -',accuracy_score(testy,dc_pred))\n",
    "print('Mean_squared_error -',mean_squared_error(testy,dc_pred))"
   ]
  },
  {
   "cell_type": "code",
   "execution_count": 76,
   "id": "5fabf8be-a56c-40f8-84c3-cb5788ba065c",
   "metadata": {},
   "outputs": [],
   "source": [
    "dc_param_grid={'splitter':[\"best\", \"random\"],'criterion':['gini','entropy'],'max_depth':[1,2,3],\n",
    "'min_samples_split':[1,2,3],'min_samples_leaf':[1,2,3],'max_leaf_nodes':[1,2,3]}"
   ]
  },
  {
   "cell_type": "code",
   "execution_count": null,
   "id": "435d6bbe-aeb0-4a75-8966-27f5efff32d3",
   "metadata": {},
   "outputs": [],
   "source": [
    "import warnings\n",
    "warnings.filterwarnings('ignore')\n",
    "dc_grid=GridSearchCV(estimator=dc,param_grid=dc_param_grid,n_jobs=-1,cv=5,verbose=2)\n",
    "dc_grid.fit(trainx_res,trainy_res)"
   ]
  },
  {
   "cell_type": "code",
   "execution_count": null,
   "id": "cd3950bc-e7cd-48ca-ad99-99d5262231f7",
   "metadata": {},
   "outputs": [],
   "source": [
    "dc_grid.best_params_"
   ]
  },
  {
   "cell_type": "code",
   "execution_count": 79,
   "id": "cb0003b8-6c95-43b9-b1ef-a2a7c40e09f0",
   "metadata": {},
   "outputs": [],
   "source": [
    "dc_final=DecisionTreeClassifier(criterion= 'gini', max_depth=2,max_leaf_nodes=4,min_samples_leaf= 1,\n",
    "min_samples_split= 2,splitter='best',random_state=42)"
   ]
  },
  {
   "cell_type": "code",
   "execution_count": 80,
   "id": "000869ed-9a3a-442f-986d-18676a595824",
   "metadata": {},
   "outputs": [],
   "source": [
    "dc_final.fit(trainx_res,trainy_res)\n",
    "dc_final_pred=dc_final.predict(testx)"
   ]
  },
  {
   "cell_type": "code",
   "execution_count": null,
   "id": "0e19d79a-0b57-4bba-bf23-a6bf95ce7cc5",
   "metadata": {},
   "outputs": [],
   "source": [
    "print('Accuracy_score -',accuracy_score(testy,dc_final_pred))\n",
    "print('Mean_squared_error -',mean_squared_error(testy,dc_final_pred))"
   ]
  },
  {
   "cell_type": "code",
   "execution_count": null,
   "id": "a7463f73-3bb5-468d-97ba-a3be39681dc6",
   "metadata": {},
   "outputs": [],
   "source": [
    "print((confusion_matrix(testy,dc_final_pred)))"
   ]
  },
  {
   "cell_type": "code",
   "execution_count": null,
   "id": "d4fc7d00-9627-409e-8f60-ee578f4b07b7",
   "metadata": {},
   "outputs": [],
   "source": [
    "print((classification_report(testy,dc_final_pred)))"
   ]
  },
  {
   "cell_type": "code",
   "execution_count": null,
   "id": "2a24683d-5212-43ad-84a5-ebff26b7cb6a",
   "metadata": {},
   "outputs": [],
   "source": [
    "#Preparing ROC Curve (Receiver Operating Characteristics Curve)\n",
    "from sklearn.metrics import roc_curve\n",
    "from sklearn.metrics import roc_auc_score\n",
    "\n",
    "# predict probabilities\n",
    "probs = dc_final.predict_proba(trainx_res)\n",
    "# keep probabilities for the positive outcome only\n",
    "probs = probs[:, 1]\n",
    "# calculate AUC\n",
    "auc = roc_auc_score(trainy_res, probs)\n",
    "print('AUC: %.3f' % auc)\n",
    "# calculate roc curve\n",
    "fpr, tpr, thresholds = roc_curve(trainy_res, probs)\n",
    "# plot no skill\n",
    "plt.plot([0, 1], [0, 1], linestyle='--')\n",
    "# plot the roc curve for the model\n",
    "plt.plot(fpr, tpr, marker='.')\n",
    "plt.show()"
   ]
  },
  {
   "cell_type": "code",
   "execution_count": null,
   "id": "ed7ca1ca-9606-4141-9d84-a95311ed20e4",
   "metadata": {},
   "outputs": [],
   "source": [
    "Algorithms=['RandomForest','Decisiontree']\n",
    "Accuracy_Score=[accuracy_score(testy,rf_grid_predict),accuracy_score(testy,dc_final_pred)]\n",
    "# Create a DataFrame\n",
    "accuracy_df = pd.DataFrame({'Algorithm': Algorithms, 'Accuracy': Accuracy_Score})\n",
    "\n",
    "# Display the accuracy table\n",
    "print(accuracy_df)"
   ]
  },
  {
   "cell_type": "code",
   "execution_count": null,
   "id": "77210b62-5dd3-41d3-a7ef-f5a3e83db04a",
   "metadata": {},
   "outputs": [],
   "source": []
  }
 ],
 "metadata": {
  "kernelspec": {
   "display_name": "Python 3",
   "language": "python",
   "name": "python3"
  },
  "language_info": {
   "codemirror_mode": {
    "name": "ipython",
    "version": 3
   },
   "file_extension": ".py",
   "mimetype": "text/x-python",
   "name": "python",
   "nbconvert_exporter": "python",
   "pygments_lexer": "ipython3",
   "version": "3.12.2"
  }
 },
 "nbformat": 4,
 "nbformat_minor": 5
}
